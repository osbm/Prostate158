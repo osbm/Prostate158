{
 "cells": [
  {
   "cell_type": "code",
   "execution_count": 22,
   "metadata": {},
   "outputs": [],
   "source": [
    "import os\n",
    "import numpy as np\n",
    "# from nibabel.testing import data_path\n",
    "import nibabel as nib\n",
    "from pathlib import Path\n",
    "import pandas as pd\n"
   ]
  },
  {
   "cell_type": "code",
   "execution_count": 33,
   "metadata": {},
   "outputs": [],
   "source": [
    "data_path = Path('Prostate158')\n",
    "train_df = pd.read_csv(data_path / 'train.csv')\n",
    "test_df = pd.read_csv(data_path / 'test.csv')\n",
    "valid_df = pd.read_csv(data_path / 'valid.csv')\n",
    "interrater_df = pd.read_csv(data_path / 'interrater.csv')"
   ]
  },
  {
   "cell_type": "code",
   "execution_count": 36,
   "metadata": {},
   "outputs": [
    {
     "name": "stdout",
     "output_type": "stream",
     "text": [
      "(119, 9)\n"
     ]
    },
    {
     "data": {
      "text/plain": [
       "ID                      0\n",
       "t2                      0\n",
       "adc                     0\n",
       "dwi                     0\n",
       "t2_anatomy_reader1      0\n",
       "t2_tumor_reader1       49\n",
       "adc_tumor_reader1       0\n",
       "t2_anatomy_reader2    119\n",
       "adc_tumor_reader2      62\n",
       "dtype: int64"
      ]
     },
     "execution_count": 36,
     "metadata": {},
     "output_type": "execute_result"
    }
   ],
   "source": [
    "print(train_df.shape)\n",
    "train_df.isnull().sum()"
   ]
  },
  {
   "cell_type": "code",
   "execution_count": 37,
   "metadata": {},
   "outputs": [
    {
     "name": "stdout",
     "output_type": "stream",
     "text": [
      "(19, 9)\n"
     ]
    },
    {
     "data": {
      "text/plain": [
       "ID                    0\n",
       "t2                    0\n",
       "adc                   0\n",
       "dwi                   0\n",
       "t2_anatomy_reader1    0\n",
       "t2_tumor_reader1      0\n",
       "adc_tumor_reader1     0\n",
       "t2_anatomy_reader2    0\n",
       "adc_tumor_reader2     0\n",
       "dtype: int64"
      ]
     },
     "execution_count": 37,
     "metadata": {},
     "output_type": "execute_result"
    }
   ],
   "source": [
    "print(test_df.shape)\n",
    "test_df.isnull().sum()"
   ]
  },
  {
   "cell_type": "code",
   "execution_count": 38,
   "metadata": {},
   "outputs": [
    {
     "name": "stdout",
     "output_type": "stream",
     "text": [
      "(20, 9)\n"
     ]
    },
    {
     "data": {
      "text/plain": [
       "ID                     0\n",
       "t2                     0\n",
       "adc                    0\n",
       "dwi                    0\n",
       "t2_anatomy_reader1     0\n",
       "t2_tumor_reader1       8\n",
       "adc_tumor_reader1      0\n",
       "t2_anatomy_reader2    20\n",
       "adc_tumor_reader2     10\n",
       "dtype: int64"
      ]
     },
     "execution_count": 38,
     "metadata": {},
     "output_type": "execute_result"
    }
   ],
   "source": [
    "print(valid_df.shape)\n",
    "valid_df.isnull().sum()\n"
   ]
  },
  {
   "cell_type": "code",
   "execution_count": 52,
   "metadata": {},
   "outputs": [
    {
     "data": {
      "text/plain": [
       "34    66\n",
       "Name: ID, dtype: int64"
      ]
     },
     "execution_count": 52,
     "metadata": {},
     "output_type": "execute_result"
    }
   ],
   "source": [
    "\n",
    "# get every row in train_df where the value of the column \"adc_tumor_reader1\" ends with \"empty.nii.gz\"\n",
    "ids1 = train_df[train_df['adc_tumor_reader1'].str.endswith('empty.nii.gz')][\"ID\"]\n",
    "# get every row in train_df where the value of the column \"t2_tumor_reader1\" is NaN\n",
    "ids2 = train_df[train_df['t2_tumor_reader1'].isnull()][\"ID\"]\n",
    "\n",
    "# get the difference between the two dataframes\n",
    "ids = ids2[~ids2.isin(ids1)]\n",
    "ids"
   ]
  },
  {
   "cell_type": "code",
   "execution_count": 32,
   "metadata": {},
   "outputs": [
    {
     "name": "stdout",
     "output_type": "stream",
     "text": [
      "Patient No:  024 OK\n",
      "Patient No:  025 OK\n",
      "Patient No:  026 OK\n",
      "Patient No:  027 OK\n",
      "Patient No:  028 OK\n",
      "Patient No:  029 OK\n",
      "Patient No:  030 OK\n",
      "Patient No:  031 OK\n",
      "Patient No:  032 OK\n",
      "Patient No:  033 OK\n",
      "Patient No:  034 OK\n",
      "Patient No:  035 OK\n",
      "Patient No:  036 OK\n",
      "Patient No:  037 OK\n",
      "Patient No:  039 OK\n",
      "Patient No:  040 OK\n",
      "Patient No:  042 OK\n",
      "Patient No:  043 OK\n",
      "Patient No:  044 OK\n",
      "Patient No:  045 OK\n",
      "Patient No:  048 OK\n",
      "Patient No:  049 OK\n",
      "Patient No:  050 OK\n",
      "Patient No:  052 OK\n",
      "Patient No:  053 OK\n",
      "Patient No:  054 OK\n",
      "Patient No:  055 OK\n",
      "Patient No:  057 OK\n",
      "Patient No:  058 OK\n",
      "Patient No:  059 OK\n",
      "Patient No:  062 OK\n",
      "Patient No:  063 OK\n",
      "Patient No:  064 OK\n",
      "Patient No:  065 OK\n",
      "Patient No:  066 OK\n",
      "Patient No:  067 OK\n",
      "Patient No:  068 OK\n",
      "Patient No:  069 OK\n",
      "Patient No:  070 OK\n",
      "Patient No:  071 OK\n",
      "Patient No:  072 OK\n",
      "Patient No:  073 OK\n",
      "Patient No:  074 OK\n",
      "Patient No:  075 OK\n",
      "Patient No:  076 OK\n",
      "Patient No:  078 OK\n",
      "Patient No:  079 OK\n",
      "Patient No:  080 OK\n",
      "Patient No:  081 OK\n",
      "Patient No:  082 OK\n",
      "Patient No:  083 OK\n",
      "Patient No:  085 OK\n",
      "Patient No:  086 OK\n",
      "Patient No:  088 OK\n",
      "Patient No:  089 OK\n",
      "Patient No:  090 OK\n",
      "Patient No:  091 OK\n",
      "Patient No:  092 OK\n",
      "Patient No:  093 OK\n",
      "Patient No:  094 OK\n",
      "Patient No:  095 OK\n",
      "Patient No:  096 OK\n",
      "Patient No:  097 OK\n",
      "Patient No:  098 OK\n",
      "Patient No:  100 OK\n",
      "Patient No:  101 OK\n",
      "Patient No:  102 OK\n",
      "Patient No:  103 OK\n",
      "Patient No:  104 OK\n",
      "Patient No:  105 OK\n",
      "Patient No:  106 OK\n",
      "Patient No:  107 OK\n",
      "Patient No:  108 OK\n",
      "Patient No:  110 OK\n",
      "Patient No:  111 OK\n",
      "Patient No:  112 OK\n",
      "Patient No:  113 OK\n",
      "Patient No:  115 OK\n",
      "Patient No:  116 OK\n",
      "Patient No:  117 OK\n",
      "Patient No:  119 OK\n",
      "Patient No:  120 OK\n",
      "Patient No:  121 OK\n",
      "Patient No:  122 OK\n",
      "Patient No:  123 OK\n",
      "Patient No:  124 OK\n",
      "Patient No:  125 OK\n",
      "Patient No:  126 OK\n",
      "Patient No:  128 OK\n",
      "Patient No:  129 OK\n",
      "Patient No:  130 OK\n",
      "Patient No:  131 OK\n",
      "Patient No:  132 OK\n",
      "Patient No:  133 OK\n",
      "Patient No:  134 OK\n",
      "Patient No:  135 OK\n",
      "Patient No:  136 OK\n",
      "Patient No:  137 OK\n",
      "Patient No:  138 OK\n",
      "Patient No:  139 OK\n",
      "Patient No:  140 OK\n",
      "Patient No:  141 OK\n",
      "Patient No:  142 OK\n",
      "Patient No:  143 OK\n",
      "Patient No:  144 OK\n",
      "Patient No:  145 OK\n",
      "Patient No:  146 OK\n",
      "Patient No:  147 OK\n",
      "Patient No:  148 OK\n",
      "Patient No:  149 OK\n",
      "Patient No:  150 OK\n",
      "Patient No:  151 OK\n",
      "Patient No:  152 OK\n",
      "Patient No:  153 OK\n",
      "Patient No:  154 OK\n",
      "Patient No:  155 OK\n",
      "Patient No:  156 OK\n",
      "Patient No:  157 OK\n",
      "Patient No:  158 OK\n",
      "Patient No:  001 OK\n",
      "Patient No:  002 OK\n",
      "Patient No:  003 OK\n",
      "Patient No:  004 OK\n",
      "Patient No:  005 OK\n",
      "Patient No:  006 OK\n",
      "Patient No:  007 OK\n",
      "Patient No:  008 OK\n",
      "Patient No:  009 OK\n",
      "Patient No:  010 OK\n",
      "Patient No:  011 OK\n",
      "Patient No:  012 OK\n",
      "Patient No:  013 OK\n",
      "Patient No:  014 OK\n",
      "Patient No:  015 OK\n",
      "Patient No:  016 OK\n",
      "Patient No:  017 OK\n",
      "Patient No:  018 OK\n",
      "Patient No:  019 OK\n",
      "Patient No:  020 OK\n",
      "Patient No:  021 OK\n",
      "Patient No:  022 OK\n",
      "Patient No:  023 OK\n",
      "Patient No:  038 OK\n",
      "Patient No:  041 OK\n",
      "Patient No:  046 OK\n",
      "Patient No:  047 OK\n",
      "Patient No:  051 OK\n",
      "Patient No:  056 OK\n",
      "Patient No:  060 OK\n",
      "Patient No:  061 OK\n",
      "Patient No:  077 OK\n",
      "Patient No:  084 OK\n",
      "Patient No:  087 OK\n",
      "Patient No:  099 OK\n",
      "Patient No:  109 OK\n",
      "Patient No:  114 OK\n",
      "Patient No:  118 OK\n",
      "Patient No:  127 OK\n"
     ]
    }
   ],
   "source": [
    "train_folder = data_path / 'train'\n",
    "test_folder = data_path / 'test'\n",
    "valid_folder = data_path / 'valid'\n",
    "\n",
    "def print_shapes(folder):\n",
    "    for patient in os.listdir(folder):\n",
    "        print(\"Patient No: \", patient, end=' ')\n",
    "        shapes = []\n",
    "        for file in os.listdir(folder / patient):\n",
    "            img = nib.load(folder / patient / file)\n",
    "            shapes.append(img.shape)\n",
    "        if (all([shape == shapes[0] for shape in shapes])):\n",
    "            print('OK')\n",
    "        else:\n",
    "            print('Shapes are not the same')\n",
    "\n",
    "print_shapes(train_folder)\n",
    "print_shapes(test_folder)\n",
    "print_shapes(valid_folder)\n"
   ]
  },
  {
   "cell_type": "code",
   "execution_count": 54,
   "metadata": {},
   "outputs": [
    {
     "data": {
      "text/plain": [
       "Index(['ID', 't2', 'adc', 'dwi', 't2_anatomy_reader1', 't2_tumor_reader1',\n",
       "       'adc_tumor_reader1', 't2_anatomy_reader2', 'adc_tumor_reader2'],\n",
       "      dtype='object')"
      ]
     },
     "execution_count": 54,
     "metadata": {},
     "output_type": "execute_result"
    }
   ],
   "source": [
    "train_df.columns"
   ]
  },
  {
   "cell_type": "code",
   "execution_count": 55,
   "metadata": {},
   "outputs": [
    {
     "data": {
      "text/plain": [
       "Index(['ID', 't2', 'adc', 'dwi', 't2_anatomy_reader1', 't2_tumor_reader1',\n",
       "       'adc_tumor_reader1', 't2_anatomy_reader2', 'adc_tumor_reader2'],\n",
       "      dtype='object')"
      ]
     },
     "execution_count": 55,
     "metadata": {},
     "output_type": "execute_result"
    }
   ],
   "source": [
    "test_df.columns"
   ]
  },
  {
   "cell_type": "code",
   "execution_count": 56,
   "metadata": {},
   "outputs": [
    {
     "data": {
      "text/html": [
       "<div>\n",
       "<style scoped>\n",
       "    .dataframe tbody tr th:only-of-type {\n",
       "        vertical-align: middle;\n",
       "    }\n",
       "\n",
       "    .dataframe tbody tr th {\n",
       "        vertical-align: top;\n",
       "    }\n",
       "\n",
       "    .dataframe thead th {\n",
       "        text-align: right;\n",
       "    }\n",
       "</style>\n",
       "<table border=\"1\" class=\"dataframe\">\n",
       "  <thead>\n",
       "    <tr style=\"text-align: right;\">\n",
       "      <th></th>\n",
       "      <th>ID</th>\n",
       "      <th>t2</th>\n",
       "      <th>adc</th>\n",
       "      <th>dwi</th>\n",
       "      <th>t2_anatomy_reader1</th>\n",
       "      <th>t2_tumor_reader1</th>\n",
       "      <th>adc_tumor_reader1</th>\n",
       "      <th>t2_anatomy_reader2</th>\n",
       "      <th>adc_tumor_reader2</th>\n",
       "    </tr>\n",
       "  </thead>\n",
       "  <tbody>\n",
       "    <tr>\n",
       "      <th>0</th>\n",
       "      <td>24</td>\n",
       "      <td>train/024/t2.nii.gz</td>\n",
       "      <td>train/024/adc.nii.gz</td>\n",
       "      <td>train/024/dwi.nii.gz</td>\n",
       "      <td>train/024/t2_anatomy_reader1.nii.gz</td>\n",
       "      <td>NaN</td>\n",
       "      <td>train/024/empty.nii.gz</td>\n",
       "      <td>NaN</td>\n",
       "      <td>NaN</td>\n",
       "    </tr>\n",
       "    <tr>\n",
       "      <th>1</th>\n",
       "      <td>25</td>\n",
       "      <td>train/025/t2.nii.gz</td>\n",
       "      <td>train/025/adc.nii.gz</td>\n",
       "      <td>train/025/dwi.nii.gz</td>\n",
       "      <td>train/025/t2_anatomy_reader1.nii.gz</td>\n",
       "      <td>train/025/t2_tumor_reader1.nii.gz</td>\n",
       "      <td>train/025/adc_tumor_reader1.nii.gz</td>\n",
       "      <td>NaN</td>\n",
       "      <td>train/025/adc_tumor_reader2.nii.gz</td>\n",
       "    </tr>\n",
       "    <tr>\n",
       "      <th>2</th>\n",
       "      <td>26</td>\n",
       "      <td>train/026/t2.nii.gz</td>\n",
       "      <td>train/026/adc.nii.gz</td>\n",
       "      <td>train/026/dwi.nii.gz</td>\n",
       "      <td>train/026/t2_anatomy_reader1.nii.gz</td>\n",
       "      <td>NaN</td>\n",
       "      <td>train/026/empty.nii.gz</td>\n",
       "      <td>NaN</td>\n",
       "      <td>NaN</td>\n",
       "    </tr>\n",
       "    <tr>\n",
       "      <th>3</th>\n",
       "      <td>27</td>\n",
       "      <td>train/027/t2.nii.gz</td>\n",
       "      <td>train/027/adc.nii.gz</td>\n",
       "      <td>train/027/dwi.nii.gz</td>\n",
       "      <td>train/027/t2_anatomy_reader1.nii.gz</td>\n",
       "      <td>train/027/t2_tumor_reader1.nii.gz</td>\n",
       "      <td>train/027/adc_tumor_reader1.nii.gz</td>\n",
       "      <td>NaN</td>\n",
       "      <td>train/027/adc_tumor_reader2.nii.gz</td>\n",
       "    </tr>\n",
       "    <tr>\n",
       "      <th>4</th>\n",
       "      <td>28</td>\n",
       "      <td>train/028/t2.nii.gz</td>\n",
       "      <td>train/028/adc.nii.gz</td>\n",
       "      <td>train/028/dwi.nii.gz</td>\n",
       "      <td>train/028/t2_anatomy_reader1.nii.gz</td>\n",
       "      <td>NaN</td>\n",
       "      <td>train/028/empty.nii.gz</td>\n",
       "      <td>NaN</td>\n",
       "      <td>NaN</td>\n",
       "    </tr>\n",
       "    <tr>\n",
       "      <th>...</th>\n",
       "      <td>...</td>\n",
       "      <td>...</td>\n",
       "      <td>...</td>\n",
       "      <td>...</td>\n",
       "      <td>...</td>\n",
       "      <td>...</td>\n",
       "      <td>...</td>\n",
       "      <td>...</td>\n",
       "      <td>...</td>\n",
       "    </tr>\n",
       "    <tr>\n",
       "      <th>15</th>\n",
       "      <td>99</td>\n",
       "      <td>valid/099/t2.nii.gz</td>\n",
       "      <td>valid/099/adc.nii.gz</td>\n",
       "      <td>valid/099/dwi.nii.gz</td>\n",
       "      <td>valid/099/t2_anatomy_reader1.nii.gz</td>\n",
       "      <td>valid/099/t2_tumor_reader1.nii.gz</td>\n",
       "      <td>valid/099/adc_tumor_reader1.nii.gz</td>\n",
       "      <td>NaN</td>\n",
       "      <td>valid/099/adc_tumor_reader2.nii.gz</td>\n",
       "    </tr>\n",
       "    <tr>\n",
       "      <th>16</th>\n",
       "      <td>109</td>\n",
       "      <td>valid/109/t2.nii.gz</td>\n",
       "      <td>valid/109/adc.nii.gz</td>\n",
       "      <td>valid/109/dwi.nii.gz</td>\n",
       "      <td>valid/109/t2_anatomy_reader1.nii.gz</td>\n",
       "      <td>valid/109/t2_tumor_reader1.nii.gz</td>\n",
       "      <td>valid/109/adc_tumor_reader1.nii.gz</td>\n",
       "      <td>NaN</td>\n",
       "      <td>valid/109/adc_tumor_reader2.nii.gz</td>\n",
       "    </tr>\n",
       "    <tr>\n",
       "      <th>17</th>\n",
       "      <td>114</td>\n",
       "      <td>valid/114/t2.nii.gz</td>\n",
       "      <td>valid/114/adc.nii.gz</td>\n",
       "      <td>valid/114/dwi.nii.gz</td>\n",
       "      <td>valid/114/t2_anatomy_reader1.nii.gz</td>\n",
       "      <td>valid/114/t2_tumor_reader1.nii.gz</td>\n",
       "      <td>valid/114/adc_tumor_reader1.nii.gz</td>\n",
       "      <td>NaN</td>\n",
       "      <td>valid/114/adc_tumor_reader2.nii.gz</td>\n",
       "    </tr>\n",
       "    <tr>\n",
       "      <th>18</th>\n",
       "      <td>118</td>\n",
       "      <td>valid/118/t2.nii.gz</td>\n",
       "      <td>valid/118/adc.nii.gz</td>\n",
       "      <td>valid/118/dwi.nii.gz</td>\n",
       "      <td>valid/118/t2_anatomy_reader1.nii.gz</td>\n",
       "      <td>valid/118/t2_tumor_reader1.nii.gz</td>\n",
       "      <td>valid/118/adc_tumor_reader1.nii.gz</td>\n",
       "      <td>NaN</td>\n",
       "      <td>valid/118/adc_tumor_reader2.nii.gz</td>\n",
       "    </tr>\n",
       "    <tr>\n",
       "      <th>19</th>\n",
       "      <td>127</td>\n",
       "      <td>valid/127/t2.nii.gz</td>\n",
       "      <td>valid/127/adc.nii.gz</td>\n",
       "      <td>valid/127/dwi.nii.gz</td>\n",
       "      <td>valid/127/t2_anatomy_reader1.nii.gz</td>\n",
       "      <td>NaN</td>\n",
       "      <td>valid/127/empty.nii.gz</td>\n",
       "      <td>NaN</td>\n",
       "      <td>NaN</td>\n",
       "    </tr>\n",
       "  </tbody>\n",
       "</table>\n",
       "<p>158 rows × 9 columns</p>\n",
       "</div>"
      ],
      "text/plain": [
       "     ID                   t2                   adc                   dwi  \\\n",
       "0    24  train/024/t2.nii.gz  train/024/adc.nii.gz  train/024/dwi.nii.gz   \n",
       "1    25  train/025/t2.nii.gz  train/025/adc.nii.gz  train/025/dwi.nii.gz   \n",
       "2    26  train/026/t2.nii.gz  train/026/adc.nii.gz  train/026/dwi.nii.gz   \n",
       "3    27  train/027/t2.nii.gz  train/027/adc.nii.gz  train/027/dwi.nii.gz   \n",
       "4    28  train/028/t2.nii.gz  train/028/adc.nii.gz  train/028/dwi.nii.gz   \n",
       "..  ...                  ...                   ...                   ...   \n",
       "15   99  valid/099/t2.nii.gz  valid/099/adc.nii.gz  valid/099/dwi.nii.gz   \n",
       "16  109  valid/109/t2.nii.gz  valid/109/adc.nii.gz  valid/109/dwi.nii.gz   \n",
       "17  114  valid/114/t2.nii.gz  valid/114/adc.nii.gz  valid/114/dwi.nii.gz   \n",
       "18  118  valid/118/t2.nii.gz  valid/118/adc.nii.gz  valid/118/dwi.nii.gz   \n",
       "19  127  valid/127/t2.nii.gz  valid/127/adc.nii.gz  valid/127/dwi.nii.gz   \n",
       "\n",
       "                     t2_anatomy_reader1                   t2_tumor_reader1  \\\n",
       "0   train/024/t2_anatomy_reader1.nii.gz                                NaN   \n",
       "1   train/025/t2_anatomy_reader1.nii.gz  train/025/t2_tumor_reader1.nii.gz   \n",
       "2   train/026/t2_anatomy_reader1.nii.gz                                NaN   \n",
       "3   train/027/t2_anatomy_reader1.nii.gz  train/027/t2_tumor_reader1.nii.gz   \n",
       "4   train/028/t2_anatomy_reader1.nii.gz                                NaN   \n",
       "..                                  ...                                ...   \n",
       "15  valid/099/t2_anatomy_reader1.nii.gz  valid/099/t2_tumor_reader1.nii.gz   \n",
       "16  valid/109/t2_anatomy_reader1.nii.gz  valid/109/t2_tumor_reader1.nii.gz   \n",
       "17  valid/114/t2_anatomy_reader1.nii.gz  valid/114/t2_tumor_reader1.nii.gz   \n",
       "18  valid/118/t2_anatomy_reader1.nii.gz  valid/118/t2_tumor_reader1.nii.gz   \n",
       "19  valid/127/t2_anatomy_reader1.nii.gz                                NaN   \n",
       "\n",
       "                     adc_tumor_reader1 t2_anatomy_reader2  \\\n",
       "0               train/024/empty.nii.gz                NaN   \n",
       "1   train/025/adc_tumor_reader1.nii.gz                NaN   \n",
       "2               train/026/empty.nii.gz                NaN   \n",
       "3   train/027/adc_tumor_reader1.nii.gz                NaN   \n",
       "4               train/028/empty.nii.gz                NaN   \n",
       "..                                 ...                ...   \n",
       "15  valid/099/adc_tumor_reader1.nii.gz                NaN   \n",
       "16  valid/109/adc_tumor_reader1.nii.gz                NaN   \n",
       "17  valid/114/adc_tumor_reader1.nii.gz                NaN   \n",
       "18  valid/118/adc_tumor_reader1.nii.gz                NaN   \n",
       "19              valid/127/empty.nii.gz                NaN   \n",
       "\n",
       "                     adc_tumor_reader2  \n",
       "0                                  NaN  \n",
       "1   train/025/adc_tumor_reader2.nii.gz  \n",
       "2                                  NaN  \n",
       "3   train/027/adc_tumor_reader2.nii.gz  \n",
       "4                                  NaN  \n",
       "..                                 ...  \n",
       "15  valid/099/adc_tumor_reader2.nii.gz  \n",
       "16  valid/109/adc_tumor_reader2.nii.gz  \n",
       "17  valid/114/adc_tumor_reader2.nii.gz  \n",
       "18  valid/118/adc_tumor_reader2.nii.gz  \n",
       "19                                 NaN  \n",
       "\n",
       "[158 rows x 9 columns]"
      ]
     },
     "execution_count": 56,
     "metadata": {},
     "output_type": "execute_result"
    }
   ],
   "source": [
    "# concatanate the train , test and validation \n",
    "df = pd.concat([train_df, test_df, valid_df], axis=0)\n",
    "\n",
    "df\n"
   ]
  },
  {
   "cell_type": "code",
   "execution_count": 57,
   "metadata": {},
   "outputs": [
    {
     "data": {
      "text/plain": [
       "ID                      0\n",
       "t2                      0\n",
       "adc                     0\n",
       "dwi                     0\n",
       "t2_anatomy_reader1      0\n",
       "t2_tumor_reader1       57\n",
       "adc_tumor_reader1       0\n",
       "t2_anatomy_reader2    139\n",
       "adc_tumor_reader2      72\n",
       "dtype: int64"
      ]
     },
     "execution_count": 57,
     "metadata": {},
     "output_type": "execute_result"
    }
   ],
   "source": [
    "df.isna().sum()\n"
   ]
  },
  {
   "cell_type": "code",
   "execution_count": null,
   "metadata": {},
   "outputs": [],
   "source": []
  }
 ],
 "metadata": {
  "kernelspec": {
   "display_name": ".venv",
   "language": "python",
   "name": "python3"
  },
  "language_info": {
   "codemirror_mode": {
    "name": "ipython",
    "version": 3
   },
   "file_extension": ".py",
   "mimetype": "text/x-python",
   "name": "python",
   "nbconvert_exporter": "python",
   "pygments_lexer": "ipython3",
   "version": "3.11.4"
  },
  "orig_nbformat": 4
 },
 "nbformat": 4,
 "nbformat_minor": 2
}
